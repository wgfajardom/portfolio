{
 "cells": [
  {
   "cell_type": "markdown",
   "metadata": {
    "tags": []
   },
   "source": [
    "## Data Structures\n",
    "\n",
    "Commonly used data structures for programming. Based on [Real Python](https://realpython.com/python-data-structures/)."
   ]
  },
  {
   "cell_type": "markdown",
   "metadata": {},
   "source": [
    "**Basic definitions about data structures**\n",
    "- Data structures are fundamental building blocks of programming.\n",
    "- There are many built-in data structures in Python such as str, list, dict, among others. \n",
    "- The extensive list of built-in data structures in the Python standard library can be found [here](https://docs.python.org/3/library/index.html).\n",
    "- Other data structures can be created as customized classes."
   ]
  },
  {
   "cell_type": "markdown",
   "metadata": {
    "tags": []
   },
   "source": [
    "### Section 1: Dictionaries"
   ]
  },
  {
   "cell_type": "markdown",
   "metadata": {
    "tags": []
   },
   "source": [
    "**Summary about dictionaries**\n",
    "- Dictionaries are data structures based on key-value pairs. \n",
    "- They are also called *maps*, *lookup tables*, or *hashmaps*.\n",
    "- Keys can be strings, numbers, or any [hashable](https://docs.python.org/3/glossary.html#term-hashable) type.\n",
    "- The built-in dictionary in Python is `dict`.\n",
    "- Other relevant implementations for dictionaries are: `collections.OrderedDict`, `collections.defaultdict`, `collections.ChainMap`, and `types.MappingProxyType`."
   ]
  },
  {
   "cell_type": "markdown",
   "metadata": {},
   "source": [
    "#### 1.1. Built-in dictionary (`dict`)"
   ]
  },
  {
   "cell_type": "code",
   "execution_count": 38,
   "metadata": {},
   "outputs": [
    {
     "data": {
      "text/plain": [
       "[52, 17]"
      ]
     },
     "execution_count": 38,
     "metadata": {},
     "output_type": "execute_result"
    }
   ],
   "source": [
    "# dict\n",
    "# This is a built-in data structure in Python\n",
    "# A dictionary is defined as a sequence of key-pairs\n",
    "# Keys are strings\n",
    "# Values may be of any type\n",
    "phonebook = {\n",
    "    \"bob\": 7387,\n",
    "    \"alice\": [52, 17],\n",
    "    \"jack\": \"Titanic\"\n",
    "}\n",
    "phonebook[\"alice\"]"
   ]
  },
  {
   "cell_type": "code",
   "execution_count": 40,
   "metadata": {},
   "outputs": [
    {
     "data": {
      "text/plain": [
       "{0: 0, 1: 1, 2: 4, 3: 9, 4: 16, 5: 25}"
      ]
     },
     "execution_count": 40,
     "metadata": {},
     "output_type": "execute_result"
    }
   ],
   "source": [
    "# Dictionary defined iteratively via a for loop\n",
    "# Keys are integers\n",
    "# Values are integers too\n",
    "squares = {x: x * x for x in range(6)}\n",
    "squares"
   ]
  },
  {
   "cell_type": "code",
   "execution_count": 44,
   "metadata": {},
   "outputs": [
    {
     "name": "stdout",
     "output_type": "stream",
     "text": [
      "<class 'dict'>\n",
      "{(4.71, -74.07): 'Bogota', (19.43, -99.13): 'Ciudad de Mexico'}\n"
     ]
    }
   ],
   "source": [
    "# Empty dictionary defined\n",
    "dc = dict()\n",
    "\n",
    "# Filling dictionary with data\n",
    "# Keys are tuples of floats, i.e., a tuple composed of hashable data types\n",
    "dc[(4.71, -74.07)] = \"Bogota\"\n",
    "dc[(19.43, -99.13)] = \"Ciudad de Mexico\"\n",
    "\n",
    "print(type(dc))\n",
    "print(dc)"
   ]
  },
  {
   "cell_type": "markdown",
   "metadata": {},
   "source": [
    "#### 1.2. Other dictionaries"
   ]
  },
  {
   "cell_type": "code",
   "execution_count": 50,
   "metadata": {},
   "outputs": [
    {
     "name": "stdout",
     "output_type": "stream",
     "text": [
      "<class 'collections.OrderedDict'>\n",
      "OrderedDict([('one', 1), ('two', 2), ('three', 3)])\n",
      "OrderedDict([('one', 1), ('two', 2), ('three', 3), ('four', 4)])\n"
     ]
    },
    {
     "data": {
      "text/plain": [
       "odict_keys(['one', 'two', 'three', 'four'])"
      ]
     },
     "execution_count": 50,
     "metadata": {},
     "output_type": "execute_result"
    }
   ],
   "source": [
    "# collections.OrderedDict\n",
    "# Keys are ordered based on their insertion order into the dictionary\n",
    "\n",
    "# It should be imported from collections module\n",
    "import collections\n",
    "\n",
    "# Define dictionary\n",
    "d = collections.OrderedDict(one=1, two=2, three=3)\n",
    "print(type(d))\n",
    "print(d)\n",
    "\n",
    "# Insert a new key-pair\n",
    "d[\"four\"] = 4\n",
    "print(d)\n",
    "\n",
    "# Check keys\n",
    "d.keys()"
   ]
  },
  {
   "cell_type": "code",
   "execution_count": 64,
   "metadata": {},
   "outputs": [
    {
     "name": "stdout",
     "output_type": "stream",
     "text": [
      "<class 'collections.defaultdict'>\n",
      "defaultdict(<class 'list'>, {})\n",
      "['Rufus', 'Kathrin', 'Mr Sniffles']\n",
      "defaultdict(<class 'list'>, {'dogs': ['Rufus', 'Kathrin', 'Mr Sniffles'], 'cats': 'Yako'})\n"
     ]
    }
   ],
   "source": [
    "# collections.defaultdict\n",
    "# Keys are ordered based on their insertion order into the dictionary\n",
    "\n",
    "# It should be imported from collections module\n",
    "from collections import defaultdict\n",
    "\n",
    "# Define dictionary where default values are lists\n",
    "dd = defaultdict(list)\n",
    "print(type(dd))\n",
    "print(dd)\n",
    "\n",
    "# Accessing a missing key creates it and initializes it using the default value, i.e. list() in this example:\n",
    "dd[\"dogs\"].append(\"Rufus\")\n",
    "dd[\"dogs\"].append(\"Kathrin\")\n",
    "dd[\"dogs\"].append(\"Mr Sniffles\")\n",
    "print(dd[\"dogs\"])\n",
    "\n",
    "# It also allows other value types different from its default (list)\n",
    "dd[\"cats\"] = \"Yako\"\n",
    "\n",
    "print(dd)"
   ]
  },
  {
   "cell_type": "code",
   "execution_count": 74,
   "metadata": {},
   "outputs": [
    {
     "name": "stdout",
     "output_type": "stream",
     "text": [
      "<class 'collections.ChainMap'>\n",
      "ChainMap({'one': 1, 'two': 2}, {'three': 3, 'four': 4})\n",
      "ChainMap({'one': 1, 'two': 2, 'five': 5}, {'three': 3, 'four': 4})\n",
      "3\n",
      "1\n"
     ]
    }
   ],
   "source": [
    "# collections.ChainMap\n",
    "# Group multiple dictionaries into a single mapping\n",
    "\n",
    "# It should be imported from collections module\n",
    "from collections import ChainMap\n",
    "dict1 = {\"one\": 1, \"two\": 2}\n",
    "dict2 = {\"three\": 3, \"four\": 4}\n",
    "chain = ChainMap(dict1, dict2)\n",
    "print(type(chain))\n",
    "print(chain)\n",
    "\n",
    "# Addition of new key-value pair\n",
    "# It is added to the first dictionary on the ChainMap\n",
    "chain[\"five\"] = 5\n",
    "print(chain)\n",
    "\n",
    "# ChainMap searches each collection in the chain from left to right until it finds the key (or fails)\n",
    "print(chain[\"three\"])\n",
    "print(chain[\"one\"])"
   ]
  },
  {
   "cell_type": "code",
   "execution_count": 82,
   "metadata": {},
   "outputs": [
    {
     "name": "stdout",
     "output_type": "stream",
     "text": [
      "{'one': 1, 'two': 2}\n",
      "read_only cannot be modified\n",
      "{'one': 42, 'two': 2}\n"
     ]
    }
   ],
   "source": [
    "# types.MappingProxyType\n",
    "# Convert a dictionary into an read-only object\n",
    "\n",
    "# It should be imported from types module\n",
    "from types import MappingProxyType\n",
    "\n",
    "# Define read_only dictionary\n",
    "writable = {\"one\": 1, \"two\": 2}\n",
    "read_only = MappingProxyType(writable)\n",
    "print(read_only)\n",
    "\n",
    "# The proxy is read-only\n",
    "try:\n",
    "    read_only[\"one\"] = 23\n",
    "except:\n",
    "    print(\"read_only cannot be modified\")\n",
    "    \n",
    "# Updates to the original are reflected in the proxy\n",
    "writable[\"one\"] = 42\n",
    "print(read_only)"
   ]
  },
  {
   "cell_type": "markdown",
   "metadata": {
    "tags": []
   },
   "source": [
    "### Section 2: Arrays"
   ]
  },
  {
   "cell_type": "markdown",
   "metadata": {},
   "source": [
    "**Summary about arrays**\n",
    "- Arrays stored data in contiguous blocks of memory. \n",
    "- Each element in an array has an index.\n",
    "- *Typed arrays* are arrays that only allow a specific variable type for their elements.\n",
    "- The most famous built-in arrays in Python are `list` and `tuple`."
   ]
  },
  {
   "cell_type": "markdown",
   "metadata": {},
   "source": [
    "#### 2.1. Mutable Dynamic Arrays (`list`)"
   ]
  },
  {
   "cell_type": "code",
   "execution_count": 32,
   "metadata": {},
   "outputs": [
    {
     "name": "stdout",
     "output_type": "stream",
     "text": [
      "<class 'list'>\n",
      "['one', 'two', 'three']\n",
      "one\n",
      "two\n",
      "3\n"
     ]
    }
   ],
   "source": [
    "# list\n",
    "# This is a built-in data structure in Python\n",
    "\n",
    "# Definition of a list\n",
    "ls_arr = [\"one\", \"two\", \"three\"]\n",
    "print(type(ls_arr))\n",
    "print(ls_arr)\n",
    "\n",
    "# Calling elements by its index\n",
    "print(ls_arr[0])\n",
    "print(ls_arr[1])\n",
    "\n",
    "# Length of a list\n",
    "print(len(ls_arr))"
   ]
  },
  {
   "cell_type": "code",
   "execution_count": 34,
   "metadata": {},
   "outputs": [
    {
     "name": "stdout",
     "output_type": "stream",
     "text": [
      "['one', 'two', 'three', 'four']\n",
      "['one', 'two', 'four']\n",
      "['one', 'hello', 'four']\n"
     ]
    }
   ],
   "source": [
    "# Lists are dynamic arrays, they allow the adition and removal of elements, i.e. they are mutable\n",
    "\n",
    "# Addition of an element\n",
    "ls_arr.append(\"four\")\n",
    "print(ls_arr)\n",
    "\n",
    "# Removal of an element\n",
    "del ls_arr[2]\n",
    "print(ls_arr)\n",
    "\n",
    "# Overwrite an element\n",
    "ls_arr[1] = \"hello\"\n",
    "print(ls_arr)"
   ]
  },
  {
   "cell_type": "code",
   "execution_count": 36,
   "metadata": {},
   "outputs": [
    {
     "name": "stdout",
     "output_type": "stream",
     "text": [
      "['one', 'hello', 'four', 23]\n",
      "<class 'str'>\n",
      "<class 'str'>\n",
      "<class 'str'>\n",
      "<class 'int'>\n"
     ]
    }
   ],
   "source": [
    "# Lists can hold arbitrary data types\n",
    "\n",
    "ls_arr.append(23)\n",
    "print(ls_arr)\n",
    "\n",
    "for elem in ls_arr:\n",
    "    print(type(elem))"
   ]
  },
  {
   "cell_type": "markdown",
   "metadata": {},
   "source": [
    "#### 2.2. Immutable Containers (`tuple`)"
   ]
  },
  {
   "cell_type": "code",
   "execution_count": 38,
   "metadata": {},
   "outputs": [
    {
     "name": "stdout",
     "output_type": "stream",
     "text": [
      "<class 'tuple'>\n",
      "('one', 'two', 'three')\n",
      "one\n",
      "two\n"
     ]
    }
   ],
   "source": [
    "# tuple\n",
    "# This is a built-in data structure in Python\n",
    "\n",
    "# Definition of a tuple\n",
    "tp_arr = (\"one\", \"two\", \"three\")\n",
    "print(type(tp_arr))\n",
    "print(tp_arr)\n",
    "\n",
    "# Calling elements by index\n",
    "print(tp_arr[0])\n",
    "print(tp_arr[1])"
   ]
  },
  {
   "cell_type": "code",
   "execution_count": 46,
   "metadata": {},
   "outputs": [
    {
     "name": "stdout",
     "output_type": "stream",
     "text": [
      "Elements of tuples cannot be overwritten.\n",
      "Elements of tuples cannot be deleted.\n"
     ]
    }
   ],
   "source": [
    "# Tuples are inmmutable\n",
    "# All elements in a tuple must be defined at the creation time\n",
    "\n",
    "# Example of tuple modification - 1\n",
    "try:\n",
    "    tp_arr[1] = \"hello\"\n",
    "except:\n",
    "    print(\"Elements of tuples cannot be overwritten.\")\n",
    "\n",
    "# Example of tuple modification - 1\n",
    "try:\n",
    "    del tp_arr[1]\n",
    "except:\n",
    "    print(\"Elements of tuples cannot be deleted.\")"
   ]
  },
  {
   "cell_type": "code",
   "execution_count": 56,
   "metadata": {},
   "outputs": [
    {
     "name": "stdout",
     "output_type": "stream",
     "text": [
      "(1, 'Programming', True)\n",
      "(1, 'Programming', True, 23.0)\n"
     ]
    }
   ],
   "source": [
    "# Tuples can hold arbitrary data types\n",
    "\n",
    "# Tuple composed of different data types\n",
    "tp_arr = (1, \"Programming\", True)\n",
    "print(tp_arr)\n",
    "\n",
    "# Concatenation of tuples\n",
    "print(tp_arr + (23.,))"
   ]
  },
  {
   "cell_type": "markdown",
   "metadata": {},
   "source": [
    "#### 2.3. Other arrays"
   ]
  },
  {
   "cell_type": "code",
   "execution_count": 58,
   "metadata": {},
   "outputs": [
    {
     "name": "stdout",
     "output_type": "stream",
     "text": [
      "array('f', [1.0, 1.5, 2.0, 2.5])\n",
      "array('f', [1.0, 1.5, 2.0, 2.5, 42.0])\n",
      "array('f', [1.0, 23.0, 2.0, 2.5, 42.0])\n",
      "array('f', [1.0, 2.0, 2.5, 42.0])\n",
      "Array do not accept a string as one of its elements\n"
     ]
    }
   ],
   "source": [
    "# array.array\n",
    "# Arrays that only allow one variable type for their elements, i.e. typed arrays\n",
    "\n",
    "# It should be imported from array module\n",
    "import array\n",
    "\n",
    "# Define a typed array of type 'float'\n",
    "arr = array.array(\"f\", (1.0, 1.5, 2.0, 2.5))\n",
    "print(arr)\n",
    "\n",
    "# Arrays are mutable. Example adding an element\n",
    "arr.append(42.0)\n",
    "print(arr)\n",
    "\n",
    "# Arrays are mutable. Example overwriting an element\n",
    "arr[1] = 23.0\n",
    "print(arr)\n",
    "\n",
    "# Arrays are mutable. Example deleting an element\n",
    "del arr[1]\n",
    "print(arr)\n",
    "\n",
    "# Arrays are \"typed\"\n",
    "try:\n",
    "    arr[1] = \"hello\"\n",
    "except:\n",
    "    print(\"Array do not accept a string as one of its elements\")"
   ]
  },
  {
   "cell_type": "code",
   "execution_count": 73,
   "metadata": {},
   "outputs": [
    {
     "name": "stdout",
     "output_type": "stream",
     "text": [
      "bytearray(b'\\x00\\x01\\x02\\x03')\n",
      "1\n",
      "\n",
      "bytearray(b'\\x00\\x01\\x02\\x03*')\n",
      "23\n",
      "bytearray(b'\\x00\\x02\\x03*')\n",
      "\n",
      "Strings are not allowed as elements of a bytearray.\n",
      "Elements must be between 0 and 255.\n",
      "\n",
      "b'\\x00\\x00\\x80?\\x00\\x00\\x00@\\x00\\x00 @\\x00\\x00(B'\n"
     ]
    }
   ],
   "source": [
    "# Strings are immutable arrays of Unicode characters\n",
    "# Bytes are immutable arrays of single bytes (integers from 0 to 255).\n",
    "\n",
    "# bytearray\n",
    "# It is a mutable array of integers from 0 to 255\n",
    "# This is a built-in data structure in Python\n",
    "\n",
    "# Definition of a bytearray\n",
    "bt_arr = bytearray((0, 1, 2, 3))\n",
    "print(bt_arr)\n",
    "print(bt_arr[1])\n",
    "print(\"\")\n",
    "\n",
    "# Bytearrays are mutable. Add an element.\n",
    "bt_arr.append(42)\n",
    "print(bt_arr)\n",
    "\n",
    "# Bytearrays are mutable. Overwrite an element.\n",
    "bt_arr[1] = 23\n",
    "print(bt_arr[1])\n",
    "\n",
    "# Bytearrays are mutable. Remove an element.\n",
    "del bt_arr[1]\n",
    "print(bt_arr)\n",
    "print(\"\")\n",
    "\n",
    "# Bytearrays can only hold `bytes` (integers in the range 0 <= x <= 255)\n",
    "try:\n",
    "    bt_arr[1] = \"hello\"\n",
    "except:\n",
    "    print(\"Strings are not allowed as elements of a bytearray.\")\n",
    "\n",
    "try:\n",
    "    bt_arr[1] = 300\n",
    "except:\n",
    "    print(\"Elements must be between 0 and 255.\")\n",
    "print(\"\")\n",
    "\n",
    "# Bytearrays can be converted back into bytes objects\n",
    "print(bytes(arr))"
   ]
  },
  {
   "cell_type": "markdown",
   "metadata": {
    "tags": []
   },
   "source": [
    "### Section 3: Data Objects"
   ]
  },
  {
   "cell_type": "markdown",
   "metadata": {},
   "source": [
    "**Summary about data objects**\n",
    "- A data object is a structure with a fixed number of fields.\n",
    "- Each field has a name and a data type.\n",
    "- Fields can be mutable or immutable.\n",
    "- There are multiple ways to create a data object. It can be done using built-in or customized data types\n",
    "\n",
    "| Data Object | Standard | Module | Representation (repr) | Fields | Access to fields |\n",
    "---|---|---|---|---|---|\n",
    "| dict | Yes/Built-in | --- | Friendly | Mutable | Brackets \\[\\] |\n",
    "| class | Yes/Custom | --- | Not Friendly | Mutable | dot . |\n",
    "| namedtuple | No | collections | Friendly | Immutable | dot . |\n",
    "| SimpleNamespace | No | types | Friendly | Mutable | dot . |"
   ]
  },
  {
   "cell_type": "markdown",
   "metadata": {},
   "source": [
    "#### 3.1. Simple Data Objects (`dict`)"
   ]
  },
  {
   "cell_type": "code",
   "execution_count": 135,
   "metadata": {},
   "outputs": [
    {
     "name": "stdout",
     "output_type": "stream",
     "text": [
      "<class 'dict'>\n",
      "{'color': 'red', 'mileage': 3812.4, 'automatic': True}\n",
      "3812.4\n",
      "{'color': 'red', 'mileage': 12, 'automatic': True, 'windshield': 'broken'}\n",
      "{'colr': 'green', 'automatic': False, 'windshield': 'broken'}\n"
     ]
    }
   ],
   "source": [
    "# dict\n",
    "# This is a built-in data structure in Python\n",
    "# It is quite useful due to its resemblance to JSON files\n",
    "\n",
    "# Definition of a data object as a dictionary\n",
    "car = {\"color\": \"red\",\n",
    "       \"mileage\": 3812.4,\n",
    "       \"automatic\": True}\n",
    "\n",
    "# Dicts have a nice repr\n",
    "print(type(car))\n",
    "print(car)\n",
    "\n",
    "# Get a field from a dict\n",
    "print(car[\"mileage\"])\n",
    "\n",
    "# Dicts are mutable\n",
    "car[\"mileage\"] = 12\n",
    "car[\"windshield\"] = \"broken\"\n",
    "print(car)\n",
    "\n",
    "# No protection against wrong field names or missing/extra fields:\n",
    "car2 = {\"colr\": \"green\",\n",
    "        \"automatic\": False,\n",
    "        \"windshield\": \"broken\",}\n",
    "print(car2)"
   ]
  },
  {
   "cell_type": "markdown",
   "metadata": {},
   "source": [
    "#### 3.2. Custom Data Object (`class`)"
   ]
  },
  {
   "cell_type": "code",
   "execution_count": 138,
   "metadata": {},
   "outputs": [
    {
     "name": "stdout",
     "output_type": "stream",
     "text": [
      "<class '__main__.Car'>\n",
      "40231.0\n",
      "12\n",
      "broken\n",
      "<__main__.Car object at 0x7f6331a30670>\n"
     ]
    }
   ],
   "source": [
    "# class\n",
    "# Allows the creation of custom templates for data objects in Python\n",
    "# A class is considered a data object when it only has attributes\n",
    "# When methods are added, the class is no longer a plain data object\n",
    "# dataclasses.dataclass can be used to reduce the time required to create a class\n",
    "\n",
    "# Definition of a data object as a class \n",
    "# It requires the development of an __init__ method\n",
    "class Car:\n",
    "    def __init__(self, color, mileage, automatic):\n",
    "        self.color = color\n",
    "        self.mileage = mileage\n",
    "        self.automatic = automatic\n",
    "\n",
    "car1 = Car(\"red\", 3812.4, True)\n",
    "car2 = Car(\"blue\", 40231.0, False)\n",
    "print(type(car1))\n",
    "\n",
    "# Get a field from a class\n",
    "print(car2.mileage)\n",
    "\n",
    "# Classes are mutable\n",
    "car2.mileage = 12\n",
    "car2.windshield = \"broken\"\n",
    "print(car2.mileage)\n",
    "print(car2.windshield)\n",
    "\n",
    "# String representation is not very useful (must add a manually written __repr__ method):\n",
    "print(car1)"
   ]
  },
  {
   "cell_type": "markdown",
   "metadata": {},
   "source": [
    "#### 3.3. Immutable Data Objects (`collections.namedtuple`)"
   ]
  },
  {
   "cell_type": "code",
   "execution_count": 141,
   "metadata": {},
   "outputs": [
    {
     "name": "stdout",
     "output_type": "stream",
     "text": [
      "<class '__main__.Car'>\n",
      "Car(color='red', mileage=3812.4, automatic=True)\n",
      "3812.4\n",
      "Namedtuples are immutables, field cannot be modified.\n",
      "Namedtuples are immutables, field cannot be added.\n"
     ]
    }
   ],
   "source": [
    "# collections.namedtuple\n",
    "# Tuples having names instead of indexes\n",
    "\n",
    "# It should be imported from collections module\n",
    "from collections import namedtuple\n",
    "\n",
    "# Definition of a data object as a namedtuple\n",
    "Car = namedtuple(\"Car\" , \"color mileage automatic\")\n",
    "car1 = Car(\"red\", 3812.4, True)\n",
    "\n",
    "# Namedtuples have a nice repr\n",
    "print(type(car1))\n",
    "print(car1)\n",
    "\n",
    "# Get a field from a namedtuple\n",
    "print(car1.mileage)\n",
    "\n",
    "# Namedtuples are immtuable\n",
    "try:\n",
    "    car1.mileage = 12\n",
    "except:\n",
    "    print(\"Namedtuples are immutables, field cannot be modified.\")\n",
    "\n",
    "try:\n",
    "    car1.windshield = \"broken\"\n",
    "except:\n",
    "    print(\"Namedtuples are immutables, field cannot be added.\")"
   ]
  },
  {
   "cell_type": "markdown",
   "metadata": {},
   "source": [
    "#### 3.4. Fancy Data Objects (`types.SimpleNamespace`)"
   ]
  },
  {
   "cell_type": "code",
   "execution_count": 145,
   "metadata": {},
   "outputs": [
    {
     "name": "stdout",
     "output_type": "stream",
     "text": [
      "<class 'types.SimpleNamespace'>\n",
      "namespace(color='red', mileage=3812.4, automatic=True)\n",
      "3812.4\n",
      "namespace(color='red', mileage=12, windshield='broken')\n"
     ]
    }
   ],
   "source": [
    "# types.SimpleNamespace\n",
    "# Dictionary as a class, where all the keys are attributes of the class\n",
    "\n",
    "# It should be imported from types module\n",
    "from types import SimpleNamespace\n",
    "\n",
    "# Definition of a data object as a SimpleNamespace\n",
    "car1 = SimpleNamespace(color=\"red\", mileage=3812.4, automatic=True)\n",
    "print(type(car1))\n",
    "\n",
    "# SimpleNamespace have a nice repr\n",
    "print(car1)\n",
    "\n",
    "# Get a field from a SimpleNamespace\n",
    "print(car1.mileage)\n",
    "\n",
    "# SimpleNamespace support attribute access and are mutable\n",
    "car1.mileage = 12\n",
    "car1.windshield = \"broken\"\n",
    "del car1.automatic\n",
    "print(car1)"
   ]
  },
  {
   "cell_type": "markdown",
   "metadata": {
    "tags": []
   },
   "source": [
    "### Section 4: Sets"
   ]
  },
  {
   "cell_type": "markdown",
   "metadata": {},
   "source": [
    "**Summary about sets**\n",
    "- Sets an unordered collections of objects that does not allow duplicates.\n",
    "- They are computational representations of mathematical sets, allowing operations like union, intersections, difference, among others.\n",
    "- Built-in sets in Python are `set` and `frozenset`, which are mutable and immutable sets, respectively."
   ]
  },
  {
   "cell_type": "markdown",
   "metadata": {},
   "source": [
    "#### 4.1. Built-in mutable sets (`set`)"
   ]
  },
  {
   "cell_type": "code",
   "execution_count": 49,
   "metadata": {},
   "outputs": [
    {
     "name": "stdout",
     "output_type": "stream",
     "text": [
      "<class 'set'>\n",
      "{'e', 'i', 'a', 'u', 'o'}\n",
      "{0, 1, 64, 4, 36, 9, 16, 49, 81, 25}\n",
      "set()\n"
     ]
    }
   ],
   "source": [
    "# set\n",
    "# This is a built-in data structure in Python\n",
    "# Sets defined with 'frozenset' are immutable\n",
    "\n",
    "# Definition of a set\n",
    "# Sets are unordered\n",
    "vowels = {\"a\", \"e\", \"i\", \"o\", \"u\"}\n",
    "print(type(vowels))\n",
    "print(vowels)\n",
    "\n",
    "# Definition of a set via a for loop\n",
    "squares = {x * x for x in range(10)}\n",
    "print(squares)\n",
    "\n",
    "# Definition of an empty set\n",
    "es = set()\n",
    "print(es)"
   ]
  },
  {
   "cell_type": "code",
   "execution_count": 51,
   "metadata": {},
   "outputs": [
    {
     "name": "stdout",
     "output_type": "stream",
     "text": [
      "5\n",
      "True\n",
      "{'e', 'i', 'l', 'a', 'c'}\n",
      "{'e', 'a', 'i'}\n",
      "{'e', 'i', 'a', 'x', 'u', 'o'}\n",
      "Only hashable objects are allowed. A set is not a hashable object.\n"
     ]
    }
   ],
   "source": [
    "# Some basic operations on sets\n",
    "\n",
    "# Length of a set\n",
    "print(len(vowels))\n",
    "\n",
    "# Verify if an element belong to a set\n",
    "vowels = {\"a\", \"e\", \"i\", \"o\", \"u\"}\n",
    "print(\"e\" in vowels)\n",
    "\n",
    "# Intersection of sets\n",
    "letters = set(\"alice\")\n",
    "print(letters)\n",
    "print(letters.intersection(vowels))\n",
    "\n",
    "# Sets created with 'set' are mutable \n",
    "vowels.add(\"x\")\n",
    "print(vowels)\n",
    "\n",
    "# Sets only allow hashable objects as elements\n",
    "aux_set = {\"b\",\"d\"}\n",
    "try:\n",
    "    vowels.add(aux_set)\n",
    "except:\n",
    "    print(\"Only hashable objects are allowed. A set is not a hashable object.\")"
   ]
  },
  {
   "cell_type": "markdown",
   "metadata": {},
   "source": [
    "#### 4.2. Built-in immutable sets (`frozenset`)"
   ]
  },
  {
   "cell_type": "code",
   "execution_count": 55,
   "metadata": {},
   "outputs": [
    {
     "name": "stdout",
     "output_type": "stream",
     "text": [
      "Frozensets are immutable.\n",
      "hello\n",
      "{frozenset({1, 2, 3}), 1, '2'}\n"
     ]
    }
   ],
   "source": [
    "# set\n",
    "# This is a built-in data structure in Python\n",
    "# Sets defined with 'frozenset' are immutable\n",
    "\n",
    "# Definition of a set\n",
    "vowels = frozenset({\"a\", \"e\", \"i\", \"o\", \"u\"})\n",
    "\n",
    "# Immutable sets\n",
    "try:\n",
    "    vowels.add(\"p\")\n",
    "except:\n",
    "    print(\"Frozensets are immutable.\")\n",
    "\n",
    "# Frozensets are hashable and can be used as dictionary keys or as part of another set\n",
    "d = {frozenset({1, 2, 3}): \"hello\"}\n",
    "print(d[frozenset({1, 2, 3})])\n",
    "s = {1, \"2\", frozenset({1, 2, 3})}\n",
    "print(s)"
   ]
  },
  {
   "cell_type": "markdown",
   "metadata": {},
   "source": [
    "#### 4.3. Multisets (`collections.Counter`)"
   ]
  },
  {
   "cell_type": "code",
   "execution_count": 61,
   "metadata": {},
   "outputs": [
    {
     "name": "stdout",
     "output_type": "stream",
     "text": [
      "Counter()\n",
      "Counter({'bread': 3, 'sword': 1})\n",
      "Counter({'bread': 3, 'sword': 2, 'apple': 1})\n",
      "1\n",
      "3\n",
      "6\n"
     ]
    }
   ],
   "source": [
    "# collections.Counter\n",
    "# A multiset or bag gives the unique elements together with the frequency of them\n",
    "\n",
    "# It should be imported from collections module\n",
    "from collections import Counter\n",
    "\n",
    "# Definition of an empty multiset or bag \n",
    "inventory = Counter()\n",
    "print(inventory)\n",
    "\n",
    "# Add elements to the multiset\n",
    "loot = {\"sword\": 1, \"bread\": 3}\n",
    "inventory.update(loot)\n",
    "print(inventory)\n",
    "\n",
    "# Add other elements to the multiset\n",
    "more_loot = {\"sword\": 1, \"apple\": 1}\n",
    "inventory.update(more_loot)\n",
    "print(inventory)\n",
    "\n",
    "# Access the count of a specific element\n",
    "print(inventory[\"apple\"])\n",
    "\n",
    "# Number of unique elements\n",
    "print(len(inventory))\n",
    "\n",
    "# Total number of elements\n",
    "print(sum(inventory.values()))"
   ]
  },
  {
   "cell_type": "markdown",
   "metadata": {
    "tags": []
   },
   "source": [
    "### Section 5: Stacks"
   ]
  },
  {
   "cell_type": "markdown",
   "metadata": {},
   "source": [
    "**Summary about stacks**\n",
    "- Stacks are collections of objects that support fast Last-In/First-Out (LIFO) semantics for inserts and deletes. \n",
    "- A real world analogy for stacks can be a stack of plates. A new plate is added at the top, the first plate to remove is the one at the top (LIFO).\n",
    "- Insert operation is called *push*, while delete operation is known as *pop*.\n",
    "- The built-in stack in Python is `list`.\n",
    "- Stacks are behind [Depth First Search (DFS)](https://skilled.dev/course/tree-traversal-in-order-pre-order-post-order) algorithm for Trees and Graphs."
   ]
  },
  {
   "cell_type": "markdown",
   "metadata": {},
   "source": [
    "#### 5.1. Built-in stacks (`list`)"
   ]
  },
  {
   "cell_type": "code",
   "execution_count": 170,
   "metadata": {},
   "outputs": [
    {
     "name": "stdout",
     "output_type": "stream",
     "text": [
      "<class 'list'>\n",
      "['first', 'second', 'third']\n",
      "['first', 'second']\n",
      "['first']\n",
      "[]\n"
     ]
    }
   ],
   "source": [
    "# list\n",
    "# This is a built-in data structure in Python\n",
    "# Lists support the implementation of stacks in Python\n",
    "\n",
    "# Definition of an empty stack\n",
    "s = []\n",
    "print(type(s))\n",
    "\n",
    "# The insert operation for lists as stacks is 'append'. It adds an element at the end of the list (LI)\n",
    "s.append(\"first\")\n",
    "s.append(\"second\")\n",
    "s.append(\"third\")\n",
    "print(s)\n",
    "\n",
    "# The delete operation for lists as stacks is 'pop'. It removes an element from the end if the list (FO)\n",
    "s.pop()\n",
    "print(s)\n",
    "s.pop()\n",
    "print(s)\n",
    "s.pop()\n",
    "print(s)"
   ]
  },
  {
   "cell_type": "markdown",
   "metadata": {},
   "source": [
    "#### 5.2. Fast and robust stacks (`collections.deque`)"
   ]
  },
  {
   "cell_type": "code",
   "execution_count": 173,
   "metadata": {},
   "outputs": [
    {
     "name": "stdout",
     "output_type": "stream",
     "text": [
      "<class 'collections.deque'>\n",
      "deque(['first', 'second', 'third'])\n",
      "deque(['first', 'second'])\n",
      "deque(['first'])\n",
      "deque([])\n"
     ]
    }
   ],
   "source": [
    "# collections.deque\n",
    "# Data structure that allows insertion and removal from both ends. It is implemented as a double-linked list\n",
    "# It can be used to create stacks\n",
    "\n",
    "# It should be imported from collections module\n",
    "from collections import deque\n",
    "\n",
    "# Definition of an empty stack\n",
    "s = deque()\n",
    "print(type(s))\n",
    "\n",
    "# The insert operation is 'append'. It adds an element at the end of the stack (LI)\n",
    "s.append(\"first\")\n",
    "s.append(\"second\")\n",
    "s.append(\"third\")\n",
    "print(s)\n",
    "\n",
    "# The delete operation is 'pop'. It removes an element from the end if the stack (FO)\n",
    "s.pop()\n",
    "print(s)\n",
    "s.pop()\n",
    "print(s)\n",
    "s.pop()\n",
    "print(s)"
   ]
  },
  {
   "cell_type": "markdown",
   "metadata": {},
   "source": [
    "#### 5.3. Stacks for parallel computing (`queue.LifoQueue`)"
   ]
  },
  {
   "cell_type": "code",
   "execution_count": 234,
   "metadata": {},
   "outputs": [
    {
     "name": "stdout",
     "output_type": "stream",
     "text": [
      "<class 'queue.LifoQueue'>\n",
      "['first', 'second', 'third']\n",
      "['first', 'second']\n",
      "['first']\n",
      "[]\n"
     ]
    }
   ],
   "source": [
    "# queue.LifoQueue\n",
    "# Stack built on top of queue class\n",
    "# Support concurrent and/or multiple producers and consumers, which makes it ideal for parallel computing\n",
    "\n",
    "# It should be imported from queue module\n",
    "from queue import LifoQueue\n",
    "\n",
    "# Definition of an empty stack\n",
    "s = LifoQueue()\n",
    "print(type(s))\n",
    "\n",
    "# The insert operation is 'put'. It adds an element at the end of the stack (LI)\n",
    "s.put(\"first\")\n",
    "s.put(\"second\")\n",
    "s.put(\"third\")\n",
    "print(s.queue)\n",
    "\n",
    "# The delete operation is 'get'. It removes an element from the end if the stack (FO)\n",
    "s.get()\n",
    "print(s.queue)\n",
    "s.get()\n",
    "print(s.queue)\n",
    "s.get()\n",
    "print(s.queue)"
   ]
  },
  {
   "cell_type": "markdown",
   "metadata": {
    "tags": []
   },
   "source": [
    "### Section 6: Queues"
   ]
  },
  {
   "cell_type": "markdown",
   "metadata": {},
   "source": [
    "**Summary about queues**\n",
    "- Queues are collections of objects that support fast First-In/First-Out (FIFO) semantics for inserts and deletes. \n",
    "- A real world analogy for queues is a bank queue. People is added at the queue end, when finish their bank procedure they leave at the queue front (FIFO).\n",
    "- Insert operation is called *enqueue*, while delete operation is known as *dequeue*.\n",
    "- The built-in queue in Python is `list`.\n",
    "- Queues are behind [Breadth First Search (BFS)](https://skilled.dev/course/tree-traversal-in-order-pre-order-post-order) algorithm for Trees and Graphs."
   ]
  },
  {
   "cell_type": "markdown",
   "metadata": {},
   "source": [
    "#### 6.1. Built-in queues (`list`)"
   ]
  },
  {
   "cell_type": "code",
   "execution_count": 178,
   "metadata": {},
   "outputs": [
    {
     "name": "stdout",
     "output_type": "stream",
     "text": [
      "<class 'list'>\n",
      "['first', 'second', 'third']\n",
      "['second', 'third']\n",
      "['third']\n",
      "[]\n"
     ]
    }
   ],
   "source": [
    "# list\n",
    "# This is a built-in data structure in Python\n",
    "# Lists support the implementation of queues in Python. However it is not recommended to use it\n",
    "\n",
    "# Definition of an empty stack\n",
    "q = []\n",
    "print(type(q))\n",
    "\n",
    "# The insert operation for lists as queues is 'append'. It adds an element at the end of the list (FI)\n",
    "q = []\n",
    "q.append(\"first\")\n",
    "q.append(\"second\")\n",
    "q.append(\"third\")\n",
    "print(q)\n",
    "\n",
    "# The delete operation for lists as queues is 'pop(0)'. It removes an element from the beginning if the list (FO)\n",
    "# Delete operations using the index 0, move all list elements of the list to another memory space, which is expensive computationally\n",
    "# This is why lists are not recommended to be used as queues\n",
    "q.pop(0)\n",
    "print(q)\n",
    "q.pop(0)\n",
    "print(q)\n",
    "q.pop(0)\n",
    "print(q)"
   ]
  },
  {
   "cell_type": "markdown",
   "metadata": {},
   "source": [
    "#### 6.2. Fast and robust queues (`collections.deque`)"
   ]
  },
  {
   "cell_type": "code",
   "execution_count": 227,
   "metadata": {},
   "outputs": [
    {
     "name": "stdout",
     "output_type": "stream",
     "text": [
      "<class 'queue.Queue'>\n",
      "deque(['first', 'second', 'third'])\n",
      "deque(['second', 'third'])\n",
      "deque(['third'])\n",
      "deque([])\n"
     ]
    }
   ],
   "source": [
    "# queue.Queue\n",
    "# Queue built on top of queue class\n",
    "# Support concurrent and/or multiple producers and consumers, which makes it ideal for parallel computing\n",
    "\n",
    "# It should be imported from queue module\n",
    "from queue import Queue\n",
    "\n",
    "# Definition of an empty queue\n",
    "q = Queue()\n",
    "print(type(q))\n",
    "\n",
    "# The insert operation is 'put'. It adds an element at the end of the queue (FI)\n",
    "q.put(\"first\")\n",
    "q.put(\"second\")\n",
    "q.put(\"third\")\n",
    "print(q.queue)\n",
    "\n",
    "# The delete operation is 'get'. It removes an element from the front of the queue (FO)\n",
    "q.get()\n",
    "print(q.queue)\n",
    "q.get()\n",
    "print(q.queue)\n",
    "q.get()\n",
    "print(q.queue)"
   ]
  },
  {
   "cell_type": "markdown",
   "metadata": {
    "tags": []
   },
   "source": [
    "#### 6.3. Queues for parallel computing (`queue.Queue`)"
   ]
  },
  {
   "cell_type": "code",
   "execution_count": 227,
   "metadata": {},
   "outputs": [
    {
     "name": "stdout",
     "output_type": "stream",
     "text": [
      "<class 'queue.Queue'>\n",
      "deque(['first', 'second', 'third'])\n",
      "deque(['second', 'third'])\n",
      "deque(['third'])\n",
      "deque([])\n"
     ]
    }
   ],
   "source": [
    "# queue.Queue\n",
    "# Queue built on top of queue class\n",
    "# Support concurrent and/or multiple producers and consumers, which makes it ideal for parallel computing\n",
    "\n",
    "# It should be imported from queue module\n",
    "from queue import Queue\n",
    "\n",
    "# Definition of an empty queue\n",
    "q = Queue()\n",
    "print(type(q))\n",
    "\n",
    "# The insert operation is 'put'. It adds an element at the end of the queue (FI)\n",
    "q.put(\"first\")\n",
    "q.put(\"second\")\n",
    "q.put(\"third\")\n",
    "print(q.queue)\n",
    "\n",
    "# The delete operation is 'get'. It removes an element from the front of the queue (FO)\n",
    "q.get()\n",
    "print(q.queue)\n",
    "q.get()\n",
    "print(q.queue)\n",
    "q.get()\n",
    "print(q.queue)"
   ]
  },
  {
   "cell_type": "markdown",
   "metadata": {
    "tags": []
   },
   "source": [
    "### Section 7: Priority Queues"
   ]
  },
  {
   "cell_type": "markdown",
   "metadata": {},
   "source": [
    "**Summary about priority queues**\n",
    "- Priority queues are modified queues where each element has an associated weight or *priority*. \n",
    "- Instead of retrieving the next element, it retrieves the highest priority element.\n",
    "- A real world analogy for priority queues is a medical triage. People is attended based on triage results.\n",
    "- The built-in priority queue in Python is `list`."
   ]
  },
  {
   "cell_type": "markdown",
   "metadata": {},
   "source": [
    "#### 7.1. Built-in priority queues (`list`)"
   ]
  },
  {
   "cell_type": "code",
   "execution_count": 217,
   "metadata": {},
   "outputs": [
    {
     "name": "stdout",
     "output_type": "stream",
     "text": [
      "<class 'list'>\n",
      "[(2, 'code'), (1, 'eat'), (3, 'sleep')]\n",
      "[(3, 'sleep'), (2, 'code'), (1, 'eat')]\n",
      "Deleted item: (1, 'eat')\n",
      "Queue:         [(3, 'sleep'), (2, 'code')]\n",
      "Deleted item: (2, 'code')\n",
      "Queue:         [(3, 'sleep')]\n",
      "Deleted item: (3, 'sleep')\n",
      "Queue:         []\n"
     ]
    }
   ],
   "source": [
    "# list\n",
    "# This is a built-in data structure in Python\n",
    "# Lists support the implementation of priority queues in Python. However it is not recommended to use it\n",
    "# Lists should be sorted manually after each insertion.\n",
    "\n",
    "# Definition of an empty priority queue\n",
    "q = []\n",
    "print(type(q))\n",
    "\n",
    "# Insert operation\n",
    "q.append((2, \"code\"))\n",
    "q.append((1, \"eat\"))\n",
    "q.append((3, \"sleep\"))\n",
    "print(q)\n",
    "\n",
    "# The list must be re-sorted every time a new element is inserted\n",
    "# This is what makes lists not suitable for creating priority queues\n",
    "q.sort(reverse=True)\n",
    "print(q)\n",
    "\n",
    "# Delete operation\n",
    "while q:\n",
    "    next_item = q.pop()\n",
    "    print(\"Deleted item:\", next_item)\n",
    "    print(\"Queue:        \", q)"
   ]
  },
  {
   "cell_type": "markdown",
   "metadata": {},
   "source": [
    "#### 7.2. List based priority queues (`heapq`)"
   ]
  },
  {
   "cell_type": "code",
   "execution_count": 220,
   "metadata": {},
   "outputs": [
    {
     "name": "stdout",
     "output_type": "stream",
     "text": [
      "<class 'list'>\n",
      "[(1, 'eat'), (2, 'code'), (3, 'sleep')]\n",
      "Deleted item: (1, 'eat')\n",
      "Queue:         [(2, 'code'), (3, 'sleep')]\n",
      "Deleted item: (2, 'code')\n",
      "Queue:         [(3, 'sleep')]\n",
      "Deleted item: (3, 'sleep')\n",
      "Queue:         []\n"
     ]
    }
   ],
   "source": [
    "# heapq\n",
    "# Priority queue that as a list that uses the module heapq to sort their elements\n",
    "\n",
    "# It should be imported from collections module\n",
    "import heapq\n",
    "\n",
    "# Definition of an empty priority queue\n",
    "q = []\n",
    "print(type(q))\n",
    "\n",
    "# Insert operation\n",
    "heapq.heappush(q, (2, \"code\"))\n",
    "heapq.heappush(q, (1, \"eat\"))\n",
    "heapq.heappush(q, (3, \"sleep\"))\n",
    "print(q)\n",
    "\n",
    "# Delete operation\n",
    "while q:\n",
    "    next_item = heapq.heappop(q)\n",
    "    print(\"Deleted item:\", next_item)\n",
    "    print(\"Queue:        \", q)"
   ]
  },
  {
   "cell_type": "markdown",
   "metadata": {},
   "source": [
    "#### 7.3. Priority queues for parallel computing (`queue.PriorityQueue`)"
   ]
  },
  {
   "cell_type": "code",
   "execution_count": 204,
   "metadata": {},
   "outputs": [
    {
     "name": "stdout",
     "output_type": "stream",
     "text": [
      "<class 'queue.PriorityQueue'>\n",
      "[(1, 'eat'), (2, 'code'), (3, 'sleep')]\n",
      "Deleted item: (1, 'eat')\n",
      "Queue:         [(2, 'code'), (3, 'sleep')]\n",
      "Deleted item: (2, 'code')\n",
      "Queue:         [(3, 'sleep')]\n",
      "Deleted item: (3, 'sleep')\n",
      "Queue:         []\n"
     ]
    }
   ],
   "source": [
    "# queue.PriorityQueue\n",
    "# Priority queue built on top of queue class\n",
    "# Support concurrent and/or multiple producers and consumers, which makes it ideal for parallel computing\n",
    "\n",
    "# It should be imported from queue module\n",
    "from queue import PriorityQueue\n",
    "\n",
    "# Definition of an empty priority queue\n",
    "q = PriorityQueue()\n",
    "print(type(q))\n",
    "\n",
    "# Insert operation\n",
    "q.put((2, \"code\"))\n",
    "q.put((1, \"eat\"))\n",
    "q.put((3, \"sleep\"))\n",
    "print(q.queue)\n",
    "\n",
    "# Delete operation\n",
    "while not q.empty():\n",
    "    next_item = q.get()\n",
    "    print(\"Deleted item:\", next_item)\n",
    "    print(\"Queue:        \", q.queue)"
   ]
  }
 ],
 "metadata": {
  "kernelspec": {
   "display_name": "anaconda-2022.05-py39",
   "language": "python",
   "name": "conda-env-anaconda-2022.05-py39-py"
  },
  "language_info": {
   "codemirror_mode": {
    "name": "ipython",
    "version": 3
   },
   "file_extension": ".py",
   "mimetype": "text/x-python",
   "name": "python",
   "nbconvert_exporter": "python",
   "pygments_lexer": "ipython3",
   "version": "3.9.12"
  }
 },
 "nbformat": 4,
 "nbformat_minor": 4
}
