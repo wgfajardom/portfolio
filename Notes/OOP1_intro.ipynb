{
 "cells": [
  {
   "cell_type": "markdown",
   "id": "99481019-f6ab-4435-9275-ba5a453582f8",
   "metadata": {
    "tags": []
   },
   "source": [
    "## Introduction to Object Oriented Programming (OOP)\n",
    "\n",
    "Basics about classes, including attributes, methods, and inheritance. Based on [Real Python](https://realpython.com/python3-object-oriented-programming/)."
   ]
  },
  {
   "cell_type": "markdown",
   "id": "953bca7b-5b70-45cb-b787-907eb49ebb89",
   "metadata": {
    "tags": []
   },
   "source": [
    "### Section 1: Classes, attributes, and methods"
   ]
  },
  {
   "cell_type": "markdown",
   "id": "434f2462-c6fd-4688-b3d9-5344db5a58dd",
   "metadata": {},
   "source": [
    "**Basic definitions about OOP**\n",
    "- Object-Oriented Programming (OOP) is an imperative programming paradigm\n",
    "- OOP is based on objects which are usually computational representations of real-world objects\n",
    "- Computational objects have attributes and methods, resembling properties and behaviors of real-world objects\n",
    "\n",
    "**Basic definitions about classes**\n",
    "- Class: template of an object\n",
    "- Instance: object built-in from a specific class\n",
    "- Classes have attributes (variables) and methods (functions)\n",
    "    * *Class attributes*: they are the same for all the instances from the same class\n",
    "    * *Instance attributes*: they are specific for all instances from the same class. Defined under \\_\\_init\\_\\_ method\n",
    "- Objects are mutable by default, i.e., their attributes can be modified\n",
    "- Some dunder methods are\n",
    "    - **\\_\\_init\\_\\_**: initializes each new instance of the class\n",
    "    - **\\_\\_str\\_\\_**: official string representation of the object, ideal for programmers\n",
    "    - **\\_\\_repr\\_\\_**: informal string representation of the object, ideal for end-users    \n",
    "    - **\\_\\_iter\\_\\_**: defines how to iterate the object with the for and in statements"
   ]
  },
  {
   "cell_type": "markdown",
   "id": "204032f7-4f2c-483b-b9a5-bac665d0c513",
   "metadata": {
    "tags": []
   },
   "source": [
    "#### *Example 1.1 - Class and instance attributes*"
   ]
  },
  {
   "cell_type": "code",
   "execution_count": 5,
   "id": "4d51f928-900d-484f-b216-68cc5e13fbcb",
   "metadata": {},
   "outputs": [],
   "source": [
    "# Example 1.1 - Class and instance attributes\n",
    "\n",
    "# Definition of Dog class\n",
    "class Dog:\n",
    "    \n",
    "    # Definition of a class attribute\n",
    "    species = \"Canis familiaris\"\n",
    "\n",
    "    # Method to initialize the Dog class\n",
    "    def __init__(self, name, age):\n",
    "        \n",
    "        # Definition of instance attributes\n",
    "        self.name = name\n",
    "        self.age = age"
   ]
  },
  {
   "cell_type": "code",
   "execution_count": 6,
   "id": "582f14d2-ac99-4610-b534-aac758bbf998",
   "metadata": {},
   "outputs": [],
   "source": [
    "# Instantiate objects of the class Dog\n",
    "\n",
    "miles = Dog(\"Miles\", 4)\n",
    "buddy = Dog(\"Buddy\", 9)"
   ]
  },
  {
   "cell_type": "code",
   "execution_count": 7,
   "id": "1e6e844d-3e67-46c2-9861-50d6821bd5e6",
   "metadata": {},
   "outputs": [
    {
     "name": "stdout",
     "output_type": "stream",
     "text": [
      "Miles Buddy\n",
      "4 9\n",
      "Canis familiaris Canis familiaris\n"
     ]
    }
   ],
   "source": [
    "# Call attributes\n",
    "\n",
    "# Instance attributes\n",
    "print(miles.name, buddy.name)\n",
    "print(miles.age, buddy.age)\n",
    "\n",
    "# Class attributes\n",
    "print(miles.species, buddy.species)"
   ]
  },
  {
   "cell_type": "code",
   "execution_count": 8,
   "id": "bf010e70-91c7-4e95-8565-4ebedc165a7c",
   "metadata": {},
   "outputs": [
    {
     "name": "stdout",
     "output_type": "stream",
     "text": [
      "Buddy's age before: 9\n",
      "Buddy's age after: 10\n"
     ]
    }
   ],
   "source": [
    "# Testing that any instance from the Dog class is mutable\n",
    "# In fact, all objects are mutable by default\n",
    "\n",
    "print(\"Buddy's age before:\", buddy.age)\n",
    "buddy.age = 10\n",
    "print(\"Buddy's age after:\", buddy.age)"
   ]
  },
  {
   "cell_type": "markdown",
   "id": "7fecfc23-c5a8-4531-b6ea-5d86b7174016",
   "metadata": {
    "tags": []
   },
   "source": [
    "#### *Example 1.2 - Methods*"
   ]
  },
  {
   "cell_type": "code",
   "execution_count": 10,
   "id": "c4561ff0-8f91-473a-9d5f-ee37146ac45c",
   "metadata": {},
   "outputs": [],
   "source": [
    "# Example 1.2 - Methods\n",
    "\n",
    "# Definition of Dog class\n",
    "class Dog:\n",
    "    \n",
    "    # Definition of a class attribute\n",
    "    species = \"Canis familiaris\"\n",
    "\n",
    "    # Method to initialize the Dog class\n",
    "    def __init__(self, name, age):\n",
    "        # Definition of instance attributes\n",
    "        self.name = name\n",
    "        self.age = age\n",
    "\n",
    "    # Method to retrieve the dog description\n",
    "    def description(self):\n",
    "        return f\"{self.name} is {self.age} years old\"\n",
    "\n",
    "    # Method to mimic dog's speaking\n",
    "    def speak(self, sound):\n",
    "        return f\"{self.name} says {sound}\""
   ]
  },
  {
   "cell_type": "code",
   "execution_count": 11,
   "id": "a8031b5d-1952-4bb7-a20a-484dce7bca7c",
   "metadata": {},
   "outputs": [
    {
     "name": "stdout",
     "output_type": "stream",
     "text": [
      "Miles is 4 years old\n",
      "Miles says Woof Woof\n",
      "Miles says Bow Wow\n"
     ]
    }
   ],
   "source": [
    "# Calling methods\n",
    "\n",
    "miles = Dog(\"Miles\", 4)\n",
    "print(miles.description())\n",
    "print(miles.speak(\"Woof Woof\"))\n",
    "print(miles.speak(\"Bow Wow\"))"
   ]
  },
  {
   "cell_type": "markdown",
   "id": "c63e7f5c-6f9c-4bcb-b536-4960cf244579",
   "metadata": {
    "tags": []
   },
   "source": [
    "#### *Example 1.3 - Changing description method to the dunder method \\_\\_str\\_\\_*"
   ]
  },
  {
   "cell_type": "code",
   "execution_count": 13,
   "id": "7a22ab42-91b0-4cc7-842b-a66b61cf241e",
   "metadata": {},
   "outputs": [],
   "source": [
    "# Example 1.3 - Changing description method to the dunder method \\_\\_str\\_\\_\n",
    "\n",
    "# Definition of Dog class\n",
    "class Dog:\n",
    "    \n",
    "    # Definition of a class attribute\n",
    "    species = \"Canis familiaris\"\n",
    "\n",
    "    # Method to initialize the Dog class\n",
    "    def __init__(self, name, age):\n",
    "        # Definition of instance attributes\n",
    "        self.name = name\n",
    "        self.age = age\n",
    "\n",
    "    # Method to retrieve the dog description\n",
    "    def __str__(self):\n",
    "        return f\"{self.name} is {self.age} years old\"\n",
    "\n",
    "    # Method to mimic dog's speaking\n",
    "    def speak(self, sound):\n",
    "        return f\"{self.name} says {sound}\""
   ]
  },
  {
   "cell_type": "code",
   "execution_count": 14,
   "id": "6dd9865e-79e8-48ae-a5c7-edba6782cab9",
   "metadata": {},
   "outputs": [
    {
     "name": "stdout",
     "output_type": "stream",
     "text": [
      "Miles is 4 years old\n"
     ]
    }
   ],
   "source": [
    "# The \"__str__\" is the one called when you try to print a Dog object\n",
    "\n",
    "miles = Dog(\"Miles\", 4)\n",
    "print(miles)"
   ]
  },
  {
   "cell_type": "markdown",
   "id": "4ec7b371-91b5-408c-b65b-5c5856a4d9f5",
   "metadata": {
    "tags": []
   },
   "source": [
    "#### Exercise I\n",
    "\n",
    "Create a Car class with two instance attributes:\n",
    "\n",
    "- .color, which stores the name of the car’s color as a string\n",
    "- .mileage, which stores the number of miles on the car as an integer\n",
    "\n",
    "Then create two Car objects, a blue car with twenty thousand miles and a red car with thirty thousand miles. Print out their colors and mileage."
   ]
  },
  {
   "cell_type": "code",
   "execution_count": 16,
   "id": "4f1fa462-3f12-4871-b3ce-0afd82350ac4",
   "metadata": {},
   "outputs": [
    {
     "name": "stdout",
     "output_type": "stream",
     "text": [
      "The blue car has 20000 miles\n",
      "The red car has 30000 miles\n"
     ]
    }
   ],
   "source": [
    "# Solution of Exercise I\n",
    "\n",
    "# Definition of Car class\n",
    "class Car:\n",
    "    \n",
    "    # Method to initialize class\n",
    "    def __init__(self, color, mileage):\n",
    "        \n",
    "        # Definition of instance attributes\n",
    "        self.color = color\n",
    "        self.mileage = mileage\n",
    "        \n",
    "    def __str__(self):\n",
    "        return f\"The {self.color} car has {self.mileage} miles\"\n",
    "        \n",
    "# Instantiate Car objects\n",
    "car1 = Car(\"blue\", \"20000\")\n",
    "car2 = Car(\"red\", \"30000\")\n",
    "\n",
    "print(car1)\n",
    "print(car2)"
   ]
  },
  {
   "cell_type": "markdown",
   "id": "0d9431bf-3bce-4f03-9038-c176394eb007",
   "metadata": {
    "tags": []
   },
   "source": [
    "### Section 2: Inheritance"
   ]
  },
  {
   "cell_type": "markdown",
   "id": "6d71755e-f71a-4581-9440-f28ee20a1f96",
   "metadata": {},
   "source": [
    "**Basic definitions inheritance**\n",
    "- Inheritance is the process by which one class take attributes and/or methods from another class\n",
    "- Classes related by inheritance can be seen as parent classes or child classes\n",
    "- There is a built-in method that determines if an instance belongs to certain class. This method is *isinstance(instance, class)*"
   ]
  },
  {
   "cell_type": "markdown",
   "id": "155605f6-66a1-4c4a-a083-cd9ff8c6afa7",
   "metadata": {
    "tags": []
   },
   "source": [
    "#### *Example 2.1 - Children classes from Dog class*"
   ]
  },
  {
   "cell_type": "code",
   "execution_count": 20,
   "id": "9b4b9f16-7bce-468d-92ed-ae6ac9b2bd43",
   "metadata": {},
   "outputs": [],
   "source": [
    "# Example 2.1 - Children classes from Dog class\n",
    "\n",
    "# Definition of Dog class\n",
    "class Dog:\n",
    "    \n",
    "    # Definition of a class attribute\n",
    "    species = \"Canis familiaris\"\n",
    "\n",
    "    # Method to initialize the Dog class\n",
    "    def __init__(self, name, age):\n",
    "        # Definition of instance attributes\n",
    "        self.name = name\n",
    "        self.age = age\n",
    "\n",
    "    # Method to retrieve the dog description\n",
    "    def __str__(self):\n",
    "        return f\"{self.name} is {self.age} years old\"\n",
    "\n",
    "    # Method to mimic dog's speaking\n",
    "    def speak(self, sound):\n",
    "        return f\"{self.name} says {sound}\"\n",
    "    \n",
    "# Child classes for different breeds\n",
    "class JackRussellTerrier(Dog):\n",
    "    pass\n",
    "class Dachshund(Dog):\n",
    "    pass\n",
    "class Bulldog(Dog):\n",
    "    pass"
   ]
  },
  {
   "cell_type": "code",
   "execution_count": 21,
   "id": "f4257612-d9eb-48d4-ba0b-997f6e6bc8fd",
   "metadata": {},
   "outputs": [
    {
     "name": "stdout",
     "output_type": "stream",
     "text": [
      "Canis familiaris\n",
      "Buddy\n",
      "Jack is 3 years old\n",
      "Jim says Woof\n"
     ]
    }
   ],
   "source": [
    "# Definition of objects from different breeds\n",
    "\n",
    "miles = JackRussellTerrier(\"Miles\", 4)\n",
    "buddy = Dachshund(\"Buddy\", 9)\n",
    "jack = Bulldog(\"Jack\", 3)\n",
    "jim = Bulldog(\"Jim\", 5)\n",
    "\n",
    "# Children classes inherit parent methods\n",
    "\n",
    "print(miles.species)\n",
    "print(buddy.name)\n",
    "print(jack)\n",
    "print(jim.speak(\"Woof\"))"
   ]
  },
  {
   "cell_type": "code",
   "execution_count": 22,
   "id": "8d214477-184a-4d08-9162-e0744d75c381",
   "metadata": {},
   "outputs": [
    {
     "name": "stdout",
     "output_type": "stream",
     "text": [
      "<class '__main__.JackRussellTerrier'>\n",
      "True\n",
      "False\n"
     ]
    }
   ],
   "source": [
    "# Relations between parent-child and child-child classes\n",
    "\n",
    "# Verify miles class\n",
    "print(type(miles))\n",
    "\n",
    "# Is miles an object from the Dog class?\n",
    "# Yes, it is because miles is from JackRussellTerrier class, which is a child class of Dog\n",
    "print(isinstance(miles, Dog))\n",
    "\n",
    "# Is miles an object from the Dachshund class?\n",
    "# No, it is not because miles is from JackRussellTerrier class. Dachshund class is another child class of Dog.\n",
    "print(isinstance(miles, Dachshund))\n",
    "\n",
    "# More generally, all objects created from a child class are instances of the parent class, although they may not be instances of other child classes."
   ]
  },
  {
   "cell_type": "markdown",
   "id": "a323797f-1923-4aee-a353-480a48f44de7",
   "metadata": {
    "tags": []
   },
   "source": [
    "#### *Example 2.2 - Overwrite method from parent class*"
   ]
  },
  {
   "cell_type": "code",
   "execution_count": 24,
   "id": "09acc7bb-6d48-4987-8ce4-76e9842c2bc5",
   "metadata": {},
   "outputs": [],
   "source": [
    "# Example 2.2 - Overwrite method from parent class\n",
    "\n",
    "# Definition of Dog class\n",
    "class Dog:\n",
    "    \n",
    "    # Definition of a class attribute\n",
    "    species = \"Canis familiaris\"\n",
    "\n",
    "    # Method to initialize the Dog class\n",
    "    def __init__(self, name, age):\n",
    "        # Definition of instance attributes\n",
    "        self.name = name\n",
    "        self.age = age\n",
    "\n",
    "    # Method to retrieve the dog description\n",
    "    def __str__(self):\n",
    "        return f\"{self.name} is {self.age} years old\"\n",
    "\n",
    "    # Method to mimic dog's speaking\n",
    "    def speak(self, sound):\n",
    "        return f\"{self.name} says {sound}\"\n",
    "    \n",
    "# Child classes for different breeds, giving bark sounds to each breed\n",
    "class JackRussellTerrier(Dog):\n",
    "    def speak(self, sound=\"Arf\"):\n",
    "        return f\"{self.name} says {sound}\"\n",
    "\n",
    "class Dachshund(Dog):\n",
    "    def speak(self, sound=\"Bow Wow\"):\n",
    "        return f\"{self.name} says {sound}\"\n",
    "\n",
    "class Bulldog(Dog):\n",
    "    def speak(self, sound=\"Guau\"):\n",
    "        return f\"{self.name} says {sound}\""
   ]
  },
  {
   "cell_type": "code",
   "execution_count": 25,
   "id": "cfe3da8e-7ddb-47a2-9f5f-14e6e953b977",
   "metadata": {},
   "outputs": [
    {
     "name": "stdout",
     "output_type": "stream",
     "text": [
      "Original bark (parent class): Miles says Grrr\n",
      "Edited bark (child class):    Miles says Arf\n"
     ]
    }
   ],
   "source": [
    "# Testing bark sounds\n",
    "\n",
    "miles = JackRussellTerrier(\"Miles\", 4)\n",
    "print(\"Original bark (parent class):\", miles.speak(\"Grrr\"))\n",
    "print(\"Edited bark (child class):   \", miles.speak())"
   ]
  },
  {
   "cell_type": "markdown",
   "id": "1d86dfa1-3b76-4674-8f00-1f52ce213c09",
   "metadata": {
    "tags": []
   },
   "source": [
    "#### *Example 2.3 - Parent class functionality extension*"
   ]
  },
  {
   "cell_type": "code",
   "execution_count": 27,
   "id": "927ae3bb-e10e-44a7-bf92-8d0183e3065c",
   "metadata": {},
   "outputs": [],
   "source": [
    "# Example 2.3 - Parent class functionality extension\n",
    "\n",
    "# Definition of Dog class\n",
    "class Dog:\n",
    "    \n",
    "    # Definition of a class attribute\n",
    "    species = \"Canis familiaris\"\n",
    "\n",
    "    # Method to initialize the Dog class\n",
    "    def __init__(self, name, age):\n",
    "        # Definition of instance attributes\n",
    "        self.name = name\n",
    "        self.age = age\n",
    "\n",
    "    # Method to retrieve the dog description\n",
    "    def __str__(self):\n",
    "        return f\"{self.name} is {self.age} years old\"\n",
    "\n",
    "    # Method to mimic dog's speaking\n",
    "    def speak(self, sound):\n",
    "        return f\"{self.name} barks {sound}\"\n",
    "    \n",
    "# Child classes for different breeds, giving bark sounds to each breed\n",
    "class JackRussellTerrier(Dog):\n",
    "    def speak(self, sound=\"Arf\"):\n",
    "        return f\"{self.name} says {sound}\"\n",
    "\n",
    "class Dachshund(Dog):\n",
    "    def speak(self, sound=\"Guau\"):\n",
    "        # The command \"super()\" retrieves the speak function from the Parent class\n",
    "        return super().speak(sound)\n",
    "\n",
    "class Bulldog(Dog):\n",
    "    pass"
   ]
  },
  {
   "cell_type": "code",
   "execution_count": 28,
   "id": "785eb94e-da10-4c8e-8247-0137671bddbb",
   "metadata": {},
   "outputs": [
    {
     "name": "stdout",
     "output_type": "stream",
     "text": [
      "Miles says Arf\n",
      "Bruno barks Guau\n",
      "Jim barks Woof\n"
     ]
    }
   ],
   "source": [
    "# Testing bark sounds\n",
    "\n",
    "# The speak function from the Child class (JackRussellTerrier) is called\n",
    "miles = JackRussellTerrier(\"Miles\", 4)\n",
    "print(miles.speak())\n",
    "\n",
    "# The speak function from the Parent class (Dog) is called, thanks to the command \"super()\". The parameter sound=\"Guau\" is used\n",
    "bruno = Dachshund(\"Bruno\", 7)\n",
    "print(bruno.speak())\n",
    "\n",
    "# The speak function from the Parent class (Dog) is called\n",
    "jim = Bulldog(\"Jim\", 5)\n",
    "print(jim.speak(\"Woof\"))"
   ]
  },
  {
   "cell_type": "markdown",
   "id": "7a9e783e-bc44-4c1d-a4ad-c551d28eb668",
   "metadata": {
    "tags": []
   },
   "source": [
    "#### Exercise II\n",
    "\n",
    "```\n",
    "class Dog:\n",
    "    species = \"Canis familiaris\"\n",
    "\n",
    "    def __init__(self, name, age):\n",
    "        self.name = name\n",
    "        self.age = age\n",
    "\n",
    "    def __str__(self):\n",
    "        return f\"{self.name} is {self.age} years old\"\n",
    "\n",
    "    def speak(self, sound):\n",
    "        return f\"{self.name} says {sound}\"\n",
    "```\n",
    "\n",
    "Create a GoldenRetriever class that inherits from the Dog class. Give the sound argument of GoldenRetriever.speak() a default value of \"Bark\"."
   ]
  },
  {
   "cell_type": "code",
   "execution_count": 30,
   "id": "1131771f-55c5-4e18-9e82-06df4a6ddda9",
   "metadata": {},
   "outputs": [
    {
     "name": "stdout",
     "output_type": "stream",
     "text": [
      "Draco says Bark\n"
     ]
    }
   ],
   "source": [
    "### Solution of Exercise II\n",
    "\n",
    "# Definition of class Dog\n",
    "class Dog:\n",
    "    species = \"Canis familiaris\"\n",
    "\n",
    "    def __init__(self, name, age):\n",
    "        self.name = name\n",
    "        self.age = age\n",
    "\n",
    "    def __str__(self):\n",
    "        return f\"{self.name} is {self.age} years old\"\n",
    "\n",
    "    def speak(self, sound):\n",
    "        return f\"{self.name} says {sound}\"\n",
    "    \n",
    "# Definition of class GoldenRetriever\n",
    "class GoldenRetriever(Dog):\n",
    "    \n",
    "    def speak(self, sound=\"Bark\"):\n",
    "        return super().speak(sound)\n",
    "    \n",
    "# Instantiate GoldenRetriever object\n",
    "draco = GoldenRetriever(\"Draco\", 12)\n",
    "print(draco.speak())"
   ]
  }
 ],
 "metadata": {
  "kernelspec": {
   "display_name": "anaconda-panel-2023.05-py310",
   "language": "python",
   "name": "conda-env-anaconda-panel-2023.05-py310-py"
  },
  "language_info": {
   "codemirror_mode": {
    "name": "ipython",
    "version": 3
   },
   "file_extension": ".py",
   "mimetype": "text/x-python",
   "name": "python",
   "nbconvert_exporter": "python",
   "pygments_lexer": "ipython3",
   "version": "3.11.5"
  }
 },
 "nbformat": 4,
 "nbformat_minor": 5
}
