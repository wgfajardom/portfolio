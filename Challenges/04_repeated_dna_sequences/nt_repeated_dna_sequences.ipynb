{
 "cells": [
  {
   "cell_type": "markdown",
   "id": "8112e669-db2c-487e-ad9c-c0387522213d",
   "metadata": {},
   "source": [
    "### Challenge 04.\n",
    "### Repeated DNA Sequences.\n",
    "### *[LeetCode 187.](https://leetcode.com/problems/repeated-dna-sequences/)*\n",
    "\n",
    "**Description**\n",
    "\n",
    "The DNA sequence is composed of a series of nucleotides abbreviated as 'A', 'C', 'G', and 'T'. For example, \"ACGAATTCCG\" is a DNA sequence. When studying DNA, it is useful to identify repeated sequences within the DNA.\n",
    "\n",
    "Given a string s that represents a DNA sequence, return all the 10-letter-long sequences (substrings) that occur more than once in a DNA molecule. You may return the answer in any order.\n",
    "\n",
    "**Examples**\n",
    "\n",
    "*Example 1*\\\n",
    "Input: s = \"AAAAACCCCCAAAAACCCCCCAAAAAGGGTTT\"\n",
    "Output: [\"AAAAACCCCC\",\"CCCCCAAAAA\"]\n",
    "\n",
    "*Example 2*\\\n",
    "Input: s = \"AAAAAAAAAAAAA\"\n",
    "Output: [\"AAAAAAAAAA\"]\n",
    "\n",
    "**Constraints**\n",
    "\n",
    "1 <= s.length <= 10^5\\\n",
    "s[i] is either 'A', 'C', 'G', or 'T'."
   ]
  },
  {
   "cell_type": "markdown",
   "id": "48923136-1b2e-4351-b629-bae16a77aaa5",
   "metadata": {},
   "source": [
    "### Proposed Solution"
   ]
  },
  {
   "cell_type": "code",
   "execution_count": 44,
   "id": "ec8b268b-6d7d-421b-9002-949339307929",
   "metadata": {},
   "outputs": [],
   "source": [
    "### Challenge 04\n",
    "### Repeated DNA Sequences\n",
    "### Proposed Solution\n",
    "\n",
    "\n",
    "### Function for identifying DNA sequences (main function)\n",
    "def main(s):\n",
    "\n",
    "    # Define lenght of the DNA chain and dictionary where DNA sequences are going to be saved\n",
    "    l = len(s)\n",
    "    dc_sequences = dict()\n",
    "\n",
    "    # Handling sequences\n",
    "    for ii in range(0,l-9):\n",
    "\n",
    "        # Extract sequence\n",
    "        substr = s[ii:ii+10]\n",
    "        ls_keys = list(dc_sequences.keys())\n",
    "\n",
    "        # Saved number of occurrences of the extracted sequence\n",
    "        if substr not in ls_keys:\n",
    "            dc_sequences[substr] = 1\n",
    "        else:\n",
    "            dc_sequences[substr] = dc_sequences[substr]+1\n",
    "\n",
    "    # Retrieve sequences that appeared more than once in the DNA chain\n",
    "    result = []\n",
    "    for key, value in dc_sequences.items():\n",
    "        if value >= 2:\n",
    "            result.append([key, value])\n",
    "    \n",
    "    return result"
   ]
  },
  {
   "cell_type": "code",
   "execution_count": 46,
   "id": "1a9f3a9d-75ad-444a-8d8f-14f4dd92c828",
   "metadata": {},
   "outputs": [
    {
     "name": "stdout",
     "output_type": "stream",
     "text": [
      "------- Repeated sequences -------\n",
      "[['AAAAACCCCC', 2], ['CCCCCAAAAA', 2]]\n"
     ]
    }
   ],
   "source": [
    "### Testing Proposed Solution\n",
    "### Identification of the DNA sequences (execute the main function)\n",
    "\n",
    "# Initialize inputs\n",
    "s = \"AAAAACCCCCAAAAACCCCCCAAAAAGGGTTT\"\n",
    "# s = \"AAAAAAAAAAAAA\"\n",
    "\n",
    "# Call the main function\n",
    "if __name__ == '__main__':\n",
    "    print(\"------- Repeated sequences -------\")\n",
    "    print(main(s))"
   ]
  },
  {
   "cell_type": "markdown",
   "id": "73a19f4f-5318-4a58-9ba3-b682bdc2cc55",
   "metadata": {},
   "source": [
    "### [External Solution](https://leetcode.com/problems/repeated-dna-sequences/solutions/2699987/c-python-concise-sliding-window/)"
   ]
  },
  {
   "cell_type": "code",
   "execution_count": 49,
   "id": "5c8aac0e-961e-434a-af18-b526cd1da9d6",
   "metadata": {},
   "outputs": [],
   "source": [
    "### Challenge 04\n",
    "### Repeated DNA Sequences\n",
    "### External Solution\n",
    "\n",
    "\n",
    "\n",
    "### Definition of the solution\n",
    "\n",
    "# Class for the solution\n",
    "class Solution(object):\n",
    "    def findRepeatedDnaSequences(self, s):\n",
    "        \n",
    "        # Initialize dictionary\n",
    "        m = {}\n",
    "        \n",
    "        # Fill dictionary with sequences of ten characters\n",
    "        for i in range(len(s)):\n",
    "            m[s[i : i + 10]] = 1 + m.get(s[i : i + 10], 0)\n",
    "        \n",
    "        # Select the sequences that occur more than once in the DNA chain\n",
    "        result = [key for key, value in m.items() if value > 1]\n",
    "        \n",
    "        return result\n"
   ]
  },
  {
   "cell_type": "code",
   "execution_count": 51,
   "id": "7011a911-2699-4dd5-9eee-294a7d5a5036",
   "metadata": {},
   "outputs": [
    {
     "name": "stdout",
     "output_type": "stream",
     "text": [
      "------- Repeated sequences -------\n",
      "['AAAAACCCCC', 'CCCCCAAAAA']\n"
     ]
    }
   ],
   "source": [
    "### Testing External Solution\n",
    "\n",
    "# Initialize inputs\n",
    "s = \"AAAAACCCCCAAAAACCCCCCAAAAAGGGTTT\"\n",
    "# s = \"AAAAAAAAAAAAA\"\n",
    "\n",
    "# Executions\n",
    "print(\"------- Repeated sequences -------\")\n",
    "print(Solution.findRepeatedDnaSequences(Solution, s))"
   ]
  },
  {
   "cell_type": "markdown",
   "id": "fa3395d2-740e-451a-b0f6-7286161abfc7",
   "metadata": {},
   "source": [
    "### Final Remarks"
   ]
  },
  {
   "cell_type": "markdown",
   "id": "9d92edf3-0c03-4b84-80f1-b90e3e1d1df8",
   "metadata": {},
   "source": [
    "Basically, both solutions are identical. Although the external solution has less lines of code, both approaches are based on the [sliding window](https://itnext.io/sliding-window-algorithm-technique-6001d5fbe8b3) technique. "
   ]
  }
 ],
 "metadata": {
  "kernelspec": {
   "display_name": "anaconda-panel-2023.05-py310",
   "language": "python",
   "name": "conda-env-anaconda-panel-2023.05-py310-py"
  },
  "language_info": {
   "codemirror_mode": {
    "name": "ipython",
    "version": 3
   },
   "file_extension": ".py",
   "mimetype": "text/x-python",
   "name": "python",
   "nbconvert_exporter": "python",
   "pygments_lexer": "ipython3",
   "version": "3.11.5"
  }
 },
 "nbformat": 4,
 "nbformat_minor": 5
}
